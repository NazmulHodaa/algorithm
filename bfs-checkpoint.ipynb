{
 "cells": [
  {
   "cell_type": "code",
   "execution_count": null,
   "metadata": {},
   "outputs": [],
   "source": [
    "def bfs(graph, root):\n",
    "    visited, queue = [], [root]\n",
    "    while queue:\n",
    "        vertex = queue.pop(0)\n",
    "        for w in graph[vertex]:\n",
    "            if w not in visited:\n",
    "                visited.append(w)\n",
    "                queue.append(w)\n",
    "\n",
    "graph = {0: [1, 2], 1: [2], 2: []}\n",
    "bfs(graph, 0)"
   ]
  }
 ],
 "metadata": {
  "kernelspec": {
   "display_name": "Python 3",
   "language": "python",
   "name": "python3"
  },
  "language_info": {
   "codemirror_mode": {
    "name": "ipython",
    "version": 3
   },
   "file_extension": ".py",
   "mimetype": "text/x-python",
   "name": "python",
   "nbconvert_exporter": "python",
   "pygments_lexer": "ipython3",
   "version": "3.7.3"
  }
 },
 "nbformat": 4,
 "nbformat_minor": 2
}
